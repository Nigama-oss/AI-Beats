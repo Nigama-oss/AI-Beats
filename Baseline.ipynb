{
  "nbformat": 4,
  "nbformat_minor": 0,
  "metadata": {
    "colab": {
      "name": "Baseline.ipynb",
      "provenance": [],
      "collapsed_sections": []
    },
    "kernelspec": {
      "name": "python3",
      "display_name": "Python 3"
    }
  },
  "cells": [
    {
      "cell_type": "code",
      "metadata": {
        "id": "JWexkkdGojuw"
      },
      "source": [
        "from music21 import *"
      ],
      "execution_count": 3,
      "outputs": []
    },
    {
      "cell_type": "code",
      "metadata": {
        "id": "ZlB7q8cKplnB"
      },
      "source": [
        "def read_midi(file):\r\n",
        "    \r\n",
        "    print(\"Loading Music File:\",file)\r\n",
        "    \r\n",
        "    notes=[]\r\n",
        "    notes_to_parse = None\r\n",
        "    \r\n",
        "    #parsing a midi file\r\n",
        "    midi = converter.parse(file)\r\n",
        "  \r\n",
        "    #grouping based on different instruments\r\n",
        "    s2 = instrument.partitionByInstrument(midi)\r\n",
        "\r\n",
        "    #Looping over all the instruments\r\n",
        "    for part in s2.parts:\r\n",
        "    \r\n",
        "        #select elements of only piano\r\n",
        "        if 'Piano' in str(part): \r\n",
        "        \r\n",
        "            notes_to_parse = part.recurse() \r\n",
        "      \r\n",
        "            #finding whether a particular element is note or a chord\r\n",
        "            for element in notes_to_parse:\r\n",
        "                \r\n",
        "                #note\r\n",
        "                if isinstance(element, note.Note):\r\n",
        "                    notes.append(str(element.pitch))\r\n",
        "                \r\n",
        "                #chord\r\n",
        "                elif isinstance(element, chord.Chord):\r\n",
        "                    notes.append('.'.join(str(n) for n in element.normalOrder))\r\n",
        "\r\n",
        "    return np.array(notes)"
      ],
      "execution_count": 4,
      "outputs": []
    },
    {
      "cell_type": "code",
      "metadata": {
        "id": "F-UUDAIKppzA",
        "colab": {
          "base_uri": "https://localhost:8080/"
        },
        "outputId": "dc58b18f-ffcc-4213-8da8-bc24d626d397"
      },
      "source": [
        "import os\r\n",
        "\r\n",
        "#Array Processing\r\n",
        "import numpy as np\r\n",
        "\r\n",
        "#specify the path\r\n",
        "path='/content/drive/MyDrive/schubert/'\r\n",
        "\r\n",
        "#read all the filenames\r\n",
        "files=[i for i in os.listdir(path) if i.endswith(\".mid\")]\r\n",
        "\r\n",
        "#reading each midi file\r\n",
        "notes_array = np.array([read_midi(path+i) for i in files])"
      ],
      "execution_count": 7,
      "outputs": [
        {
          "output_type": "stream",
          "text": [
            "Loading Music File: /content/drive/MyDrive/schubert/schubert_D850_1.mid\n",
            "Loading Music File: /content/drive/MyDrive/schubert/schubert_D850_2.mid\n",
            "Loading Music File: /content/drive/MyDrive/schubert/schubert_D850_3.mid\n",
            "Loading Music File: /content/drive/MyDrive/schubert/schubert_D850_4.mid\n",
            "Loading Music File: /content/drive/MyDrive/schubert/schub_d760_1.mid\n",
            "Loading Music File: /content/drive/MyDrive/schubert/schub_d760_2.mid\n",
            "Loading Music File: /content/drive/MyDrive/schubert/schub_d760_3.mid\n",
            "Loading Music File: /content/drive/MyDrive/schubert/schub_d760_4.mid\n",
            "Loading Music File: /content/drive/MyDrive/schubert/schumm-1.mid\n",
            "Loading Music File: /content/drive/MyDrive/schubert/schumm-2.mid\n",
            "Loading Music File: /content/drive/MyDrive/schubert/schumm-3.mid\n",
            "Loading Music File: /content/drive/MyDrive/schubert/schumm-4.mid\n",
            "Loading Music File: /content/drive/MyDrive/schubert/schumm-5.mid\n",
            "Loading Music File: /content/drive/MyDrive/schubert/schumm-6.mid\n",
            "Loading Music File: /content/drive/MyDrive/schubert/schu_143_1.mid\n",
            "Loading Music File: /content/drive/MyDrive/schubert/schu_143_2.mid\n",
            "Loading Music File: /content/drive/MyDrive/schubert/schu_143_3.mid\n",
            "Loading Music File: /content/drive/MyDrive/schubert/schuim-1.mid\n",
            "Loading Music File: /content/drive/MyDrive/schubert/schuim-2.mid\n",
            "Loading Music File: /content/drive/MyDrive/schubert/schuim-3.mid\n",
            "Loading Music File: /content/drive/MyDrive/schubert/schuim-4.mid\n",
            "Loading Music File: /content/drive/MyDrive/schubert/schubert_D935_1.mid\n",
            "Loading Music File: /content/drive/MyDrive/schubert/schubert_D935_2.mid\n",
            "Loading Music File: /content/drive/MyDrive/schubert/schubert_D935_3.mid\n",
            "Loading Music File: /content/drive/MyDrive/schubert/schubert_D935_4.mid\n",
            "Loading Music File: /content/drive/MyDrive/schubert/schub_d960_1.mid\n",
            "Loading Music File: /content/drive/MyDrive/schubert/schub_d960_2.mid\n",
            "Loading Music File: /content/drive/MyDrive/schubert/schub_d960_3.mid\n",
            "Loading Music File: /content/drive/MyDrive/schubert/schub_d960_4.mid\n"
          ],
          "name": "stdout"
        },
        {
          "output_type": "stream",
          "text": [
            "/usr/local/lib/python3.7/dist-packages/ipykernel_launcher.py:13: VisibleDeprecationWarning: Creating an ndarray from ragged nested sequences (which is a list-or-tuple of lists-or-tuples-or ndarrays with different lengths or shapes) is deprecated. If you meant to do this, you must specify 'dtype=object' when creating the ndarray\n",
            "  del sys.path[0]\n"
          ],
          "name": "stderr"
        }
      ]
    },
    {
      "cell_type": "code",
      "metadata": {
        "colab": {
          "base_uri": "https://localhost:8080/"
        },
        "id": "NA099lqAtSMN",
        "outputId": "54d8c634-bace-43d6-a9f6-7c211a7760d7"
      },
      "source": [
        "notes_ = [element for note_ in notes_array for element in note_]\r\n",
        "\r\n",
        "#No. of unique notes\r\n",
        "unique_notes = list(set(notes_))\r\n",
        "print(len(unique_notes))"
      ],
      "execution_count": 8,
      "outputs": [
        {
          "output_type": "stream",
          "text": [
            "304\n"
          ],
          "name": "stdout"
        }
      ]
    },
    {
      "cell_type": "code",
      "metadata": {
        "colab": {
          "base_uri": "https://localhost:8080/",
          "height": 404
        },
        "id": "CtgIaNSptTGQ",
        "outputId": "f8409106-1375-42c4-a769-b01b599656c0"
      },
      "source": [
        "from collections import Counter\r\n",
        "\r\n",
        "#computing frequency of each note\r\n",
        "freq = dict(Counter(notes_))\r\n",
        "\r\n",
        "#library for visualiation\r\n",
        "import matplotlib.pyplot as plt\r\n",
        "\r\n",
        "#consider only the frequencies\r\n",
        "no=[count for _,count in freq.items()]\r\n",
        "\r\n",
        "#set the figure size\r\n",
        "plt.figure(figsize=(5,5))\r\n",
        "\r\n",
        "#plot\r\n",
        "plt.hist(no)"
      ],
      "execution_count": 9,
      "outputs": [
        {
          "output_type": "execute_result",
          "data": {
            "text/plain": [
              "(array([187.,  41.,  26.,  11.,   6.,   9.,  12.,   6.,   3.,   3.]),\n",
              " array([1.0000e+00, 1.4790e+02, 2.9480e+02, 4.4170e+02, 5.8860e+02,\n",
              "        7.3550e+02, 8.8240e+02, 1.0293e+03, 1.1762e+03, 1.3231e+03,\n",
              "        1.4700e+03]),\n",
              " <a list of 10 Patch objects>)"
            ]
          },
          "metadata": {
            "tags": []
          },
          "execution_count": 9
        },
        {
          "output_type": "display_data",
          "data": {
            "image/png": "[encoded data removed]",
            "text/plain": [
              "<Figure size 360x360 with 1 Axes>"
            ]
          },
          "metadata": {
            "tags": [],
            "image/png": {
              "width": 319,
              "height": 302
            },
            "needs_background": "light"
          }
        }
      ]
    },
    {
      "cell_type": "code",
      "metadata": {
        "colab": {
          "base_uri": "https://localhost:8080/"
        },
        "id": "FLkms-HQtTKQ",
        "outputId": "ce6bc6bc-e5b4-48bc-ca0a-b27d1b55d004"
      },
      "source": [
        "frequent_notes = [note_ for note_, count in freq.items() if count>=50]\r\n",
        "print(len(frequent_notes))"
      ],
      "execution_count": 10,
      "outputs": [
        {
          "output_type": "stream",
          "text": [
            "167\n"
          ],
          "name": "stdout"
        }
      ]
    },
    {
      "cell_type": "code",
      "metadata": {
        "colab": {
          "base_uri": "https://localhost:8080/"
        },
        "id": "hKCvkNQItTN4",
        "outputId": "7a052a7c-9030-4abc-c0c2-b841ddeb8ac1"
      },
      "source": [
        "new_music=[]\r\n",
        "\r\n",
        "for notes in notes_array:\r\n",
        "    temp=[]\r\n",
        "    for note_ in notes:\r\n",
        "        if note_ in frequent_notes:\r\n",
        "            temp.append(note_)            \r\n",
        "    new_music.append(temp)\r\n",
        "    \r\n",
        "new_music = np.array(new_music)"
      ],
      "execution_count": 11,
      "outputs": [
        {
          "output_type": "stream",
          "text": [
            "/usr/local/lib/python3.7/dist-packages/ipykernel_launcher.py:10: VisibleDeprecationWarning: Creating an ndarray from ragged nested sequences (which is a list-or-tuple of lists-or-tuples-or ndarrays with different lengths or shapes) is deprecated. If you meant to do this, you must specify 'dtype=object' when creating the ndarray\n",
            "  # Remove the CWD from sys.path while we load stuff.\n"
          ],
          "name": "stderr"
        }
      ]
    },
    {
      "cell_type": "code",
      "metadata": {
        "id": "yLTn-_rmtTRf"
      },
      "source": [
        "no_of_timesteps = 32\r\n",
        "x = []\r\n",
        "y = []\r\n",
        "\r\n",
        "for note_ in new_music:\r\n",
        "    for i in range(0, len(note_) - no_of_timesteps, 1):\r\n",
        "        \r\n",
        "        #preparing input and output sequences\r\n",
        "        input_ = note_[i:i + no_of_timesteps]\r\n",
        "        output = note_[i + no_of_timesteps]\r\n",
        "        \r\n",
        "        x.append(input_)\r\n",
        "        y.append(output)\r\n",
        "        \r\n",
        "x=np.array(x)\r\n",
        "y=np.array(y)"
      ],
      "execution_count": 12,
      "outputs": []
    },
    {
      "cell_type": "code",
      "metadata": {
        "id": "0Ypi56aJtxIK"
      },
      "source": [
        "unique_x = list(set(x.ravel()))\r\n",
        "x_note_to_int = dict((note_, number) for number, note_ in enumerate(unique_x))"
      ],
      "execution_count": 13,
      "outputs": []
    },
    {
      "cell_type": "code",
      "metadata": {
        "id": "T3vWuY7KtxMJ"
      },
      "source": [
        "x_seq=[]\r\n",
        "for i in x:\r\n",
        "    temp=[]\r\n",
        "    for j in i:\r\n",
        "        #assigning unique integer to every note\r\n",
        "        temp.append(x_note_to_int[j])\r\n",
        "    x_seq.append(temp)\r\n",
        "    \r\n",
        "x_seq = np.array(x_seq)"
      ],
      "execution_count": 14,
      "outputs": []
    },
    {
      "cell_type": "code",
      "metadata": {
        "id": "646NG9B0txPR"
      },
      "source": [
        "unique_y = list(set(y))\r\n",
        "y_note_to_int = dict((note_, number) for number, note_ in enumerate(unique_y)) \r\n",
        "y_seq=np.array([y_note_to_int[i] for i in y])"
      ],
      "execution_count": 15,
      "outputs": []
    },
    {
      "cell_type": "code",
      "metadata": {
        "id": "HUt0PK-CtxSA"
      },
      "source": [
        "from sklearn.model_selection import train_test_split\r\n",
        "x_tr, x_val, y_tr, y_val = train_test_split(x_seq,y_seq,test_size=0.2,random_state=0)"
      ],
      "execution_count": 16,
      "outputs": []
    },
    {
      "cell_type": "markdown",
      "metadata": {
        "id": "yDtV_nfouN8l"
      },
      "source": [
        "MODEL"
      ]
    },
    {
      "cell_type": "code",
      "metadata": {
        "id": "ulTUzghbuFZn"
      },
      "source": [
        "def lstm():\r\n",
        "  model = Sequential()\r\n",
        "  model.add(LSTM(128,return_sequences=True))\r\n",
        "  model.add(LSTM(128))\r\n",
        "  model.add(Dense(256))\r\n",
        "  model.add(Activation('relu'))\r\n",
        "  model.add(Dense(n_vocab))\r\n",
        "  model.add(Activation('softmax'))\r\n",
        "  model.compile(loss='sparse_categorical_crossentropy', optimizer='adam')\r\n",
        "  return model"
      ],
      "execution_count": 17,
      "outputs": []
    },
    {
      "cell_type": "code",
      "metadata": {
        "colab": {
          "base_uri": "https://localhost:8080/"
        },
        "id": "UJXqreWbuFdO",
        "outputId": "cfd02ad8-9be2-45ab-caa5-0836fb1a4b30"
      },
      "source": [
        "from keras.layers import *\r\n",
        "from keras.models import *\r\n",
        "from keras.callbacks import *\r\n",
        "import keras.backend as K\r\n",
        "\r\n",
        "K.clear_session()\r\n",
        "model = Sequential()\r\n",
        "    \r\n",
        "#embedding layer\r\n",
        "model.add(Embedding(len(unique_x), 100, input_length=32,trainable=True)) \r\n",
        "\r\n",
        "model.add(Conv1D(64,3, padding='causal',activation='relu'))\r\n",
        "model.add(Dropout(0.2))\r\n",
        "model.add(MaxPool1D(2))\r\n",
        "    \r\n",
        "model.add(Conv1D(128,3,activation='relu',dilation_rate=2,padding='causal'))\r\n",
        "model.add(Dropout(0.2))\r\n",
        "model.add(MaxPool1D(2))\r\n",
        "\r\n",
        "model.add(Conv1D(256,3,activation='relu',dilation_rate=4,padding='causal'))\r\n",
        "model.add(Dropout(0.2))\r\n",
        "model.add(MaxPool1D(2))\r\n",
        "          \r\n",
        "#model.add(Conv1D(256,5,activation='relu'))    \r\n",
        "model.add(GlobalMaxPool1D())\r\n",
        "    \r\n",
        "model.add(Dense(256, activation='relu'))\r\n",
        "model.add(Dense(len(unique_y), activation='softmax'))\r\n",
        "    \r\n",
        "model.compile(loss='sparse_categorical_crossentropy', optimizer='adam')\r\n",
        "\r\n",
        "model.summary()"
      ],
      "execution_count": 18,
      "outputs": [
        {
          "output_type": "stream",
          "text": [
            "Model: \"sequential\"\n",
            "_________________________________________________________________\n",
            "Layer (type)                 Output Shape              Param #   \n",
            "=================================================================\n",
            "embedding (Embedding)        (None, 32, 100)           16700     \n",
            "_________________________________________________________________\n",
            "conv1d (Conv1D)              (None, 32, 64)            19264     \n",
            "_________________________________________________________________\n",
            "dropout (Dropout)            (None, 32, 64)            0         \n",
            "_________________________________________________________________\n",
            "max_pooling1d (MaxPooling1D) (None, 16, 64)            0         \n",
            "_________________________________________________________________\n",
            "conv1d_1 (Conv1D)            (None, 16, 128)           24704     \n",
            "_________________________________________________________________\n",
            "dropout_1 (Dropout)          (None, 16, 128)           0         \n",
            "_________________________________________________________________\n",
            "max_pooling1d_1 (MaxPooling1 (None, 8, 128)            0         \n",
            "_________________________________________________________________\n",
            "conv1d_2 (Conv1D)            (None, 8, 256)            98560     \n",
            "_________________________________________________________________\n",
            "dropout_2 (Dropout)          (None, 8, 256)            0         \n",
            "_________________________________________________________________\n",
            "max_pooling1d_2 (MaxPooling1 (None, 4, 256)            0         \n",
            "_________________________________________________________________\n",
            "global_max_pooling1d (Global (None, 256)               0         \n",
            "_________________________________________________________________\n",
            "dense (Dense)                (None, 256)               65792     \n",
            "_________________________________________________________________\n",
            "dense_1 (Dense)              (None, 167)               42919     \n",
            "=================================================================\n",
            "Total params: 267,939\n",
            "Trainable params: 267,939\n",
            "Non-trainable params: 0\n",
            "_________________________________________________________________\n"
          ],
          "name": "stdout"
        }
      ]
    },
    {
      "cell_type": "code",
      "metadata": {
        "id": "lTrFHNsbuFgF"
      },
      "source": [
        "mc=ModelCheckpoint('best_model.h5', monitor='val_loss', mode='min', save_best_only=True,verbose=1)"
      ],
      "execution_count": 19,
      "outputs": []
    },
    {
      "cell_type": "code",
      "metadata": {
        "colab": {
          "base_uri": "https://localhost:8080/"
        },
        "id": "OV_Xh-U4uFiq",
        "outputId": "c1949757-8f5b-40b7-eadc-b9b9ba989c70"
      },
      "source": [
        "history = model.fit(np.array(x_tr),np.array(y_tr),batch_size=128,epochs=50, validation_data=(np.array(x_val),np.array(y_val)),verbose=1, callbacks=[mc])"
      ],
      "execution_count": 21,
      "outputs": [
        {
          "output_type": "stream",
          "text": [
            "Epoch 1/50\n",
            "403/403 [==============================] - 41s 102ms/step - loss: 2.3205 - val_loss: 2.7601\n",
            "\n",
            "Epoch 00001: val_loss did not improve from 2.75024\n",
            "Epoch 2/50\n",
            "403/403 [==============================] - 41s 101ms/step - loss: 2.3173 - val_loss: 2.7440\n",
            "\n",
            "Epoch 00002: val_loss improved from 2.75024 to 2.74398, saving model to best_model.h5\n",
            "Epoch 3/50\n",
            "403/403 [==============================] - 41s 101ms/step - loss: 2.3079 - val_loss: 2.7487\n",
            "\n",
            "Epoch 00003: val_loss did not improve from 2.74398\n",
            "Epoch 4/50\n",
            "403/403 [==============================] - 41s 102ms/step - loss: 2.3036 - val_loss: 2.7563\n",
            "\n",
            "Epoch 00004: val_loss did not improve from 2.74398\n",
            "Epoch 5/50\n",
            "403/403 [==============================] - 41s 101ms/step - loss: 2.3019 - val_loss: 2.7368\n",
            "\n",
            "Epoch 00005: val_loss improved from 2.74398 to 2.73679, saving model to best_model.h5\n",
            "Epoch 6/50\n",
            "403/403 [==============================] - 41s 101ms/step - loss: 2.2942 - val_loss: 2.7392\n",
            "\n",
            "Epoch 00006: val_loss did not improve from 2.73679\n",
            "Epoch 7/50\n",
            "403/403 [==============================] - 41s 102ms/step - loss: 2.2902 - val_loss: 2.7360\n",
            "\n",
            "Epoch 00007: val_loss improved from 2.73679 to 2.73599, saving model to best_model.h5\n",
            "Epoch 8/50\n",
            "403/403 [==============================] - 41s 102ms/step - loss: 2.2865 - val_loss: 2.7425\n",
            "\n",
            "Epoch 00008: val_loss did not improve from 2.73599\n",
            "Epoch 9/50\n",
            "403/403 [==============================] - 41s 102ms/step - loss: 2.2700 - val_loss: 2.7340\n",
            "\n",
            "Epoch 00009: val_loss improved from 2.73599 to 2.73405, saving model to best_model.h5\n",
            "Epoch 10/50\n",
            "403/403 [==============================] - 41s 102ms/step - loss: 2.2790 - val_loss: 2.7344\n",
            "\n",
            "Epoch 00010: val_loss did not improve from 2.73405\n",
            "Epoch 11/50\n",
            "403/403 [==============================] - 41s 101ms/step - loss: 2.2667 - val_loss: 2.7254\n",
            "\n",
            "Epoch 00011: val_loss improved from 2.73405 to 2.72538, saving model to best_model.h5\n",
            "Epoch 12/50\n",
            "403/403 [==============================] - 41s 102ms/step - loss: 2.2646 - val_loss: 2.7213\n",
            "\n",
            "Epoch 00012: val_loss improved from 2.72538 to 2.72126, saving model to best_model.h5\n",
            "Epoch 13/50\n",
            "403/403 [==============================] - 41s 102ms/step - loss: 2.2574 - val_loss: 2.7157\n",
            "\n",
            "Epoch 00013: val_loss improved from 2.72126 to 2.71572, saving model to best_model.h5\n",
            "Epoch 14/50\n",
            "403/403 [==============================] - 41s 102ms/step - loss: 2.2544 - val_loss: 2.7184\n",
            "\n",
            "Epoch 00014: val_loss did not improve from 2.71572\n",
            "Epoch 15/50\n",
            "403/403 [==============================] - 41s 102ms/step - loss: 2.2494 - val_loss: 2.7183\n",
            "\n",
            "Epoch 00015: val_loss did not improve from 2.71572\n",
            "Epoch 16/50\n",
            "403/403 [==============================] - 41s 102ms/step - loss: 2.2538 - val_loss: 2.7106\n",
            "\n",
            "Epoch 00016: val_loss improved from 2.71572 to 2.71065, saving model to best_model.h5\n",
            "Epoch 17/50\n",
            "403/403 [==============================] - 41s 102ms/step - loss: 2.2442 - val_loss: 2.7039\n",
            "\n",
            "Epoch 00017: val_loss improved from 2.71065 to 2.70386, saving model to best_model.h5\n",
            "Epoch 18/50\n",
            "403/403 [==============================] - 41s 102ms/step - loss: 2.2419 - val_loss: 2.7023\n",
            "\n",
            "Epoch 00018: val_loss improved from 2.70386 to 2.70232, saving model to best_model.h5\n",
            "Epoch 19/50\n",
            "403/403 [==============================] - 41s 103ms/step - loss: 2.2393 - val_loss: 2.6990\n",
            "\n",
            "Epoch 00019: val_loss improved from 2.70232 to 2.69895, saving model to best_model.h5\n",
            "Epoch 20/50\n",
            "403/403 [==============================] - 41s 103ms/step - loss: 2.2324 - val_loss: 2.7050\n",
            "\n",
            "Epoch 00020: val_loss did not improve from 2.69895\n",
            "Epoch 21/50\n",
            "403/403 [==============================] - 41s 102ms/step - loss: 2.2268 - val_loss: 2.6929\n",
            "\n",
            "Epoch 00021: val_loss improved from 2.69895 to 2.69293, saving model to best_model.h5\n",
            "Epoch 22/50\n",
            "403/403 [==============================] - 41s 102ms/step - loss: 2.2256 - val_loss: 2.7015\n",
            "\n",
            "Epoch 00022: val_loss did not improve from 2.69293\n",
            "Epoch 23/50\n",
            "403/403 [==============================] - 41s 103ms/step - loss: 2.2155 - val_loss: 2.6951\n",
            "\n",
            "Epoch 00023: val_loss did not improve from 2.69293\n",
            "Epoch 24/50\n",
            "403/403 [==============================] - 41s 103ms/step - loss: 2.2155 - val_loss: 2.6952\n",
            "\n",
            "Epoch 00024: val_loss did not improve from 2.69293\n",
            "Epoch 25/50\n",
            "403/403 [==============================] - 41s 102ms/step - loss: 2.2145 - val_loss: 2.6861\n",
            "\n",
            "Epoch 00025: val_loss improved from 2.69293 to 2.68613, saving model to best_model.h5\n",
            "Epoch 26/50\n",
            "403/403 [==============================] - 41s 102ms/step - loss: 2.2087 - val_loss: 2.6820\n",
            "\n",
            "Epoch 00026: val_loss improved from 2.68613 to 2.68195, saving model to best_model.h5\n",
            "Epoch 27/50\n",
            "403/403 [==============================] - 41s 103ms/step - loss: 2.2106 - val_loss: 2.7018\n",
            "\n",
            "Epoch 00027: val_loss did not improve from 2.68195\n",
            "Epoch 28/50\n",
            "403/403 [==============================] - 41s 102ms/step - loss: 2.1973 - val_loss: 2.6980\n",
            "\n",
            "Epoch 00028: val_loss did not improve from 2.68195\n",
            "Epoch 29/50\n",
            "403/403 [==============================] - 41s 102ms/step - loss: 2.1987 - val_loss: 2.6769\n",
            "\n",
            "Epoch 00029: val_loss improved from 2.68195 to 2.67693, saving model to best_model.h5\n",
            "Epoch 30/50\n",
            "403/403 [==============================] - 41s 102ms/step - loss: 2.1976 - val_loss: 2.6792\n",
            "\n",
            "Epoch 00030: val_loss did not improve from 2.67693\n",
            "Epoch 31/50\n",
            "403/403 [==============================] - 41s 102ms/step - loss: 2.1925 - val_loss: 2.6852\n",
            "\n",
            "Epoch 00031: val_loss did not improve from 2.67693\n",
            "Epoch 32/50\n",
            "403/403 [==============================] - 41s 102ms/step - loss: 2.1910 - val_loss: 2.6820\n",
            "\n",
            "Epoch 00032: val_loss did not improve from 2.67693\n",
            "Epoch 33/50\n",
            "403/403 [==============================] - 41s 102ms/step - loss: 2.1833 - val_loss: 2.6823\n",
            "\n",
            "Epoch 00033: val_loss did not improve from 2.67693\n",
            "Epoch 34/50\n",
            "403/403 [==============================] - 41s 102ms/step - loss: 2.1824 - val_loss: 2.6771\n",
            "\n",
            "Epoch 00034: val_loss did not improve from 2.67693\n",
            "Epoch 35/50\n",
            "403/403 [==============================] - 41s 103ms/step - loss: 2.1874 - val_loss: 2.6764\n",
            "\n",
            "Epoch 00035: val_loss improved from 2.67693 to 2.67645, saving model to best_model.h5\n",
            "Epoch 36/50\n",
            "403/403 [==============================] - 41s 102ms/step - loss: 2.1774 - val_loss: 2.6697\n",
            "\n",
            "Epoch 00036: val_loss improved from 2.67645 to 2.66972, saving model to best_model.h5\n",
            "Epoch 37/50\n",
            "403/403 [==============================] - 41s 103ms/step - loss: 2.1776 - val_loss: 2.6767\n",
            "\n",
            "Epoch 00037: val_loss did not improve from 2.66972\n",
            "Epoch 38/50\n",
            "403/403 [==============================] - 41s 102ms/step - loss: 2.1750 - val_loss: 2.6603\n",
            "\n",
            "Epoch 00038: val_loss improved from 2.66972 to 2.66029, saving model to best_model.h5\n",
            "Epoch 39/50\n",
            "403/403 [==============================] - 41s 102ms/step - loss: 2.1702 - val_loss: 2.6677\n",
            "\n",
            "Epoch 00039: val_loss did not improve from 2.66029\n",
            "Epoch 40/50\n",
            "403/403 [==============================] - 41s 102ms/step - loss: 2.1653 - val_loss: 2.6722\n",
            "\n",
            "Epoch 00040: val_loss did not improve from 2.66029\n",
            "Epoch 41/50\n",
            "403/403 [==============================] - 41s 102ms/step - loss: 2.1628 - val_loss: 2.6743\n",
            "\n",
            "Epoch 00041: val_loss did not improve from 2.66029\n",
            "Epoch 42/50\n",
            "403/403 [==============================] - 41s 102ms/step - loss: 2.1628 - val_loss: 2.6675\n",
            "\n",
            "Epoch 00042: val_loss did not improve from 2.66029\n",
            "Epoch 43/50\n",
            "403/403 [==============================] - 41s 102ms/step - loss: 2.1591 - val_loss: 2.6835\n",
            "\n",
            "Epoch 00043: val_loss did not improve from 2.66029\n",
            "Epoch 44/50\n",
            "403/403 [==============================] - 41s 102ms/step - loss: 2.1543 - val_loss: 2.6655\n",
            "\n",
            "Epoch 00044: val_loss did not improve from 2.66029\n",
            "Epoch 45/50\n",
            "403/403 [==============================] - 41s 103ms/step - loss: 2.1592 - val_loss: 2.6677\n",
            "\n",
            "Epoch 00045: val_loss did not improve from 2.66029\n",
            "Epoch 46/50\n",
            "403/403 [==============================] - 41s 102ms/step - loss: 2.1568 - val_loss: 2.6546\n",
            "\n",
            "Epoch 00046: val_loss improved from 2.66029 to 2.65458, saving model to best_model.h5\n",
            "Epoch 47/50\n",
            "403/403 [==============================] - 41s 102ms/step - loss: 2.1437 - val_loss: 2.6702\n",
            "\n",
            "Epoch 00047: val_loss did not improve from 2.65458\n",
            "Epoch 48/50\n",
            "403/403 [==============================] - 41s 102ms/step - loss: 2.1464 - val_loss: 2.6619\n",
            "\n",
            "Epoch 00048: val_loss did not improve from 2.65458\n",
            "Epoch 49/50\n",
            "403/403 [==============================] - 41s 102ms/step - loss: 2.1434 - val_loss: 2.6544\n",
            "\n",
            "Epoch 00049: val_loss improved from 2.65458 to 2.65435, saving model to best_model.h5\n",
            "Epoch 50/50\n",
            "403/403 [==============================] - 41s 103ms/step - loss: 2.1471 - val_loss: 2.6644\n",
            "\n",
            "Epoch 00050: val_loss did not improve from 2.65435\n"
          ],
          "name": "stdout"
        }
      ]
    },
    {
      "cell_type": "code",
      "metadata": {
        "id": "zG_8vmJduFon"
      },
      "source": [
        "from keras.models import load_model\r\n",
        "model = load_model('best_model.h5')"
      ],
      "execution_count": 22,
      "outputs": []
    },
    {
      "cell_type": "code",
      "metadata": {
        "colab": {
          "base_uri": "https://localhost:8080/"
        },
        "id": "wLX7zFNCuFrk",
        "outputId": "12b46435-433e-4f96-e0f0-8eb1c2bf7867"
      },
      "source": [
        "import random\r\n",
        "ind = np.random.randint(0,len(x_val)-1)\r\n",
        "\r\n",
        "random_music = x_val[ind]\r\n",
        "\r\n",
        "predictions=[]\r\n",
        "for i in range(10):\r\n",
        "\r\n",
        "    random_music = random_music.reshape(1,no_of_timesteps)\r\n",
        "\r\n",
        "    prob  = model.predict(random_music)[0]\r\n",
        "    y_pred= np.argmax(prob,axis=0)\r\n",
        "    predictions.append(y_pred)\r\n",
        "\r\n",
        "    random_music = np.insert(random_music[0],len(random_music[0]),y_pred)\r\n",
        "    random_music = random_music[1:]\r\n",
        "    \r\n",
        "print(predictions)"
      ],
      "execution_count": 23,
      "outputs": [
        {
          "output_type": "stream",
          "text": [
            "[100, 96, 155, 155, 155, 96, 139, 139, 139, 139]\n"
          ],
          "name": "stdout"
        }
      ]
    },
    {
      "cell_type": "code",
      "metadata": {
        "id": "Y8X29pFYuFut"
      },
      "source": [
        "x_int_to_note = dict((number, note_) for number, note_ in enumerate(unique_x)) \r\n",
        "predicted_notes = [x_int_to_note[i] for i in predictions]"
      ],
      "execution_count": 24,
      "outputs": []
    },
    {
      "cell_type": "code",
      "metadata": {
        "id": "iRkZ1C2zuFxw"
      },
      "source": [
        "def convert_to_midi(prediction_output):\r\n",
        "   \r\n",
        "    offset = 0\r\n",
        "    output_notes = []\r\n",
        "\r\n",
        "    # create note and chord objects based on the values generated by the model\r\n",
        "    for pattern in prediction_output:\r\n",
        "        \r\n",
        "        # pattern is a chord\r\n",
        "        if ('.' in pattern) or pattern.isdigit():\r\n",
        "            notes_in_chord = pattern.split('.')\r\n",
        "            notes = []\r\n",
        "            for current_note in notes_in_chord:\r\n",
        "                \r\n",
        "                cn=int(current_note)\r\n",
        "                new_note = note.Note(cn)\r\n",
        "                new_note.storedInstrument = instrument.Piano()\r\n",
        "                notes.append(new_note)\r\n",
        "                \r\n",
        "            new_chord = chord.Chord(notes)\r\n",
        "            new_chord.offset = offset\r\n",
        "            output_notes.append(new_chord)\r\n",
        "            \r\n",
        "        # pattern is a note\r\n",
        "        else:\r\n",
        "            \r\n",
        "            new_note = note.Note(pattern)\r\n",
        "            new_note.offset = offset\r\n",
        "            new_note.storedInstrument = instrument.Piano()\r\n",
        "            output_notes.append(new_note)\r\n",
        "\r\n",
        "        # increase offset each iteration so that notes do not stack\r\n",
        "        offset += 1\r\n",
        "    midi_stream = stream.Stream(output_notes)\r\n",
        "    midi_stream.write('midi', fp='music.mid')"
      ],
      "execution_count": 25,
      "outputs": []
    },
    {
      "cell_type": "code",
      "metadata": {
        "id": "Q9_L1wAeHdji"
      },
      "source": [
        "convert_to_midi(predicted_notes)"
      ],
      "execution_count": 26,
      "outputs": []
    },
    {
      "cell_type": "code",
      "metadata": {
        "id": "7yEMFcw0HdnS"
      },
      "source": [
        ""
      ],
      "execution_count": null,
      "outputs": []
    },
    {
      "cell_type": "code",
      "metadata": {
        "id": "DpCG0hZAHdr6"
      },
      "source": [
        ""
      ],
      "execution_count": null,
      "outputs": []
    },
    {
      "cell_type": "code",
      "metadata": {
        "id": "R6xxRL9ruFz_"
      },
      "source": [
        ""
      ],
      "execution_count": null,
      "outputs": []
    },
    {
      "cell_type": "code",
      "metadata": {
        "id": "mlOOriD2uF23"
      },
      "source": [
        ""
      ],
      "execution_count": null,
      "outputs": []
    },
    {
      "cell_type": "code",
      "metadata": {
        "id": "F1LjmWd8txpI"
      },
      "source": [
        ""
      ],
      "execution_count": null,
      "outputs": []
    },
    {
      "cell_type": "code",
      "metadata": {
        "id": "oqvsUF0HtTUa"
      },
      "source": [
        ""
      ],
      "execution_count": null,
      "outputs": []
    }
  ]
}